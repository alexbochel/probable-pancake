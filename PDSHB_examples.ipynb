{
 "cells": [
  {
   "cell_type": "markdown",
   "metadata": {},
   "source": [
    "# Python Data Science Handbook \n",
    "\n",
    "These are tests and examples from the Python Data Science Handbook by Jake VanderPlas\n"
   ]
  },
  {
   "cell_type": "code",
   "execution_count": 8,
   "metadata": {},
   "outputs": [],
   "source": [
    "import numpy as np #this is convention with the data science community"
   ]
  },
  {
   "cell_type": "markdown",
   "metadata": {},
   "source": [
    "Numpy allows for arrays to be created using the <code>array</code> function. Arrays must contain data all of the same type. This can be specified by passing a <code>dtype=''</code> argument into the <code>array</code> function."
   ]
  },
  {
   "cell_type": "code",
   "execution_count": 14,
   "metadata": {},
   "outputs": [
    {
     "name": "stdout",
     "output_type": "stream",
     "text": [
      "[1 2 3 4 5]\n",
      "[1. 2. 3. 4. 5.]\n"
     ]
    }
   ],
   "source": [
    "print(np.array([1,2,3,4,5]))\n",
    "print(np.array([1,2,3,4,5], dtype='float32'))"
   ]
  },
  {
   "cell_type": "markdown",
   "metadata": {},
   "source": [
    "### Multi-dimensional support\n",
    "Arrays can also be multidimensional"
   ]
  },
  {
   "cell_type": "code",
   "execution_count": 10,
   "metadata": {},
   "outputs": [
    {
     "name": "stdout",
     "output_type": "stream",
     "text": [
      "[[2 3 4]\n",
      " [4 5 6]\n",
      " [6 7 8]]\n"
     ]
    }
   ],
   "source": [
    "print(np.array([range(i,i+3)for i in [2,4,6]]))"
   ]
  },
  {
   "cell_type": "markdown",
   "metadata": {},
   "source": [
    "### Cell creation/initialization\n",
    "Arrays can also be created using <code>np.zeros()</code>, <code>np.ones()</code> or <code>np.full()</code>"
   ]
  },
  {
   "cell_type": "code",
   "execution_count": 15,
   "metadata": {},
   "outputs": [
    {
     "name": "stdout",
     "output_type": "stream",
     "text": [
      "[0. 0. 0. 0. 0. 0. 0. 0. 0. 0.]\n",
      "[[1. 1. 1. 1. 1.]\n",
      " [1. 1. 1. 1. 1.]\n",
      " [1. 1. 1. 1. 1.]]\n",
      "[[3.14 3.14]\n",
      " [3.14 3.14]]\n"
     ]
    }
   ],
   "source": [
    "print(np.zeros(10))\n",
    "print(np.ones([3,5]))\n",
    "print(np.full([2,2],3.14))"
   ]
  },
  {
   "cell_type": "markdown",
   "metadata": {},
   "source": [
    "Arrays with arranged values can be created with <code>np.arange()</code> or <code>np.linspace()</code>"
   ]
  },
  {
   "cell_type": "code",
   "execution_count": 17,
   "metadata": {},
   "outputs": [
    {
     "name": "stdout",
     "output_type": "stream",
     "text": [
      "[ 0  2  4  6  8 10 12 14 16 18]\n",
      "[0.   0.25 0.5  0.75 1.  ]\n"
     ]
    }
   ],
   "source": [
    "print(np.arange(0,20,2))\n",
    "print(np.linspace(0,1,5))"
   ]
  },
  {
   "cell_type": "markdown",
   "metadata": {},
   "source": [
    "Random arrays can be created with <code>np.random.random()</code>, <code>np.random.normal()</code> and <code>np.random.ranint()</code>"
   ]
  },
  {
   "cell_type": "code",
   "execution_count": 22,
   "metadata": {},
   "outputs": [
    {
     "name": "stdout",
     "output_type": "stream",
     "text": [
      "[[0.20744662 0.87237186 0.51670087]\n",
      " [0.89345089 0.74281397 0.20758901]\n",
      " [0.10400782 0.76900137 0.10438042]]\n",
      "[[ 0.03364685  0.71238705 -1.49553488]\n",
      " [-1.15396002 -1.21548978 -1.21460933]\n",
      " [ 0.28548836 -0.30858931  0.49464989]]\n",
      "[[2 5 0]\n",
      " [0 4 2]\n",
      " [8 8 7]]\n"
     ]
    }
   ],
   "source": [
    "print(np.random.random((3,3)))\n",
    "print(np.random.normal(0,1,(3,3)))\n",
    "print(np.random.randint(0,10,(3,3)))"
   ]
  },
  {
   "cell_type": "markdown",
   "metadata": {},
   "source": [
    "### Indexing\n",
    "Indexing in numpy arrays is the same as in python lists or touples. Slicing can be subsituted in any place an index could be used."
   ]
  },
  {
   "cell_type": "code",
   "execution_count": 28,
   "metadata": {},
   "outputs": [
    {
     "name": "stdout",
     "output_type": "stream",
     "text": [
      "x1 =  [0 1 2 3 4 5 6 7 8 9]\n",
      "0\n",
      "[0 1 2 3 4]\n",
      "[9 8 7 6 5 4 3 2 1 0]\n"
     ]
    }
   ],
   "source": [
    "x1 = np.arange(10)\n",
    "print('x1 = ',x1)\n",
    "print(x1[0])\n",
    "print(x1[:5])\n",
    "print(x1[::-1])"
   ]
  },
  {
   "cell_type": "markdown",
   "metadata": {},
   "source": [
    "indexing and slicing works on multi-dimensional arrays in the same way"
   ]
  },
  {
   "cell_type": "code",
   "execution_count": 36,
   "metadata": {},
   "outputs": [
    {
     "name": "stdout",
     "output_type": "stream",
     "text": [
      "[[3 9 1 9]\n",
      " [9 9 9 4]\n",
      " [5 5 6 4]]\n",
      "3\n",
      "[5 5 6 4]\n",
      "[9 9 5]\n"
     ]
    }
   ],
   "source": [
    "x2 = np.random.randint(0,10,(3,4))\n",
    "print(x2)\n",
    "print(x2[0,0])\n",
    "print(x2[-1,:])\n",
    "print(x2[:,1])"
   ]
  },
  {
   "cell_type": "markdown",
   "metadata": {},
   "source": [
    "### Arithmetic\n",
    "All default computational operations can be performed on arrays\n",
    "numpy arithmetic function are computed using vectorization which is much faster than the standard python list arithmetic which uses iteration\n"
   ]
  },
  {
   "cell_type": "code",
   "execution_count": 9,
   "metadata": {},
   "outputs": [
    {
     "name": "stdout",
     "output_type": "stream",
     "text": [
      "x+5= [5 6 7 8]\n",
      "x-5= [-5 -4 -3 -2]\n",
      "x*2= [0 2 4 6]\n",
      "x/2= [0.  0.5 1.  1.5]\n",
      "x**2= [0 1 4 9]\n"
     ]
    }
   ],
   "source": [
    "x = np.arange(4)\n",
    "print('x+5=',x+5)\n",
    "print('x-5=',x-5)\n",
    "print('x*2=',x*2)\n",
    "print('x/2=',x/2)\n",
    "print('x**2=',x**2)"
   ]
  },
  {
   "cell_type": "code",
   "execution_count": null,
   "metadata": {},
   "outputs": [],
   "source": []
  },
  {
   "cell_type": "code",
   "execution_count": null,
   "metadata": {},
   "outputs": [],
   "source": []
  }
 ],
 "metadata": {
  "kernelspec": {
   "display_name": "Python 3",
   "language": "python",
   "name": "python3"
  },
  "language_info": {
   "codemirror_mode": {
    "name": "ipython",
    "version": 3
   },
   "file_extension": ".py",
   "mimetype": "text/x-python",
   "name": "python",
   "nbconvert_exporter": "python",
   "pygments_lexer": "ipython3",
   "version": "3.6.5"
  }
 },
 "nbformat": 4,
 "nbformat_minor": 2
}
